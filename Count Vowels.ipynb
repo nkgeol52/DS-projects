{
 "cells": [
  {
   "cell_type": "markdown",
   "metadata": {},
   "source": [
    "Count Vowels - Enter a string and the program counts the number of vowels in the text. For added complexity have it report a sum of each vowel found."
   ]
  },
  {
   "cell_type": "code",
   "execution_count": 5,
   "metadata": {},
   "outputs": [],
   "source": [
    "# simply method\n",
    "# define the function\n",
    "def count_vowel():\n",
    "    text = input('Please input sentence here: ')\n",
    "    a_list=[]\n",
    "    e_list=[]\n",
    "    i_list=[]\n",
    "    o_list=[]\n",
    "    u_list=[]\n",
    "    # append the vowel to their lists\n",
    "    for t in text:\n",
    "        if t.lower() == 'a':\n",
    "            a_list.append(t)\n",
    "        elif t.lower() == 'e':\n",
    "            e_list.append(t)\n",
    "        elif t.lower() == 'i':\n",
    "            i_list.append(t)\n",
    "        elif t.lower() == 'o':\n",
    "            o_list.append(t)\n",
    "        elif t.lower() == 'u':\n",
    "            u_list.append(t)\n",
    "        else:\n",
    "            continue\n",
    "    # Counting for each vowel\n",
    "    print('a: ', len(a_list))\n",
    "    print('e: ', len(e_list))\n",
    "    print('i: ', len(i_list))\n",
    "    print('o: ', len(o_list))\n",
    "    print('u: ', len(u_list))\n",
    "    print('Total vowels in this senstence is: ', len(a_list)+len(e_list)+len(i_list)+len(o_list)+len(u_list))"
   ]
  },
  {
   "cell_type": "code",
   "execution_count": 9,
   "metadata": {},
   "outputs": [
    {
     "name": "stdout",
     "output_type": "stream",
     "text": [
      "Please input sentence here: My name is Nuttapong Keawmoon.\n",
      "a:  3\n",
      "e:  2\n",
      "i:  1\n",
      "o:  3\n",
      "u:  1\n",
      "Total vowels in this senstence is:  10\n"
     ]
    }
   ],
   "source": [
    "count_vowel()"
   ]
  },
  {
   "cell_type": "code",
   "execution_count": null,
   "metadata": {},
   "outputs": [],
   "source": []
  },
  {
   "cell_type": "code",
   "execution_count": null,
   "metadata": {},
   "outputs": [],
   "source": []
  },
  {
   "cell_type": "code",
   "execution_count": null,
   "metadata": {},
   "outputs": [],
   "source": []
  },
  {
   "cell_type": "code",
   "execution_count": null,
   "metadata": {},
   "outputs": [],
   "source": []
  }
 ],
 "metadata": {
  "kernelspec": {
   "display_name": "Python 3",
   "language": "python",
   "name": "python3"
  },
  "language_info": {
   "codemirror_mode": {
    "name": "ipython",
    "version": 3
   },
   "file_extension": ".py",
   "mimetype": "text/x-python",
   "name": "python",
   "nbconvert_exporter": "python",
   "pygments_lexer": "ipython3",
   "version": "3.7.4"
  }
 },
 "nbformat": 4,
 "nbformat_minor": 2
}
