{
 "cells": [
  {
   "cell_type": "markdown",
   "metadata": {},
   "source": [
    "Coin Flip Simulation - Write some code that simulates flipping a single coin however many times the user decides. The code should record the outcomes and count the number of tails and heads."
   ]
  },
  {
   "cell_type": "code",
   "execution_count": 18,
   "metadata": {},
   "outputs": [],
   "source": [
    "import random\n",
    "\n",
    "def coin_flip():\n",
    "    \n",
    "    # list of outcome\n",
    "    result = ['head','tail']\n",
    "    \n",
    "    # ask how many times would you play?\n",
    "    round_max = int(input('How many rounds you would like to play?: '))\n",
    "    \n",
    "    # set of the fisrt round as one\n",
    "    round_num = 1\n",
    "    \n",
    "    # set the place holder for head and tail counters\n",
    "    head_count = []\n",
    "    tail_count = []\n",
    "    \n",
    "    # while loop to the round_max\n",
    "    while round_num <= round_max:\n",
    "        r = random.choice(result)\n",
    "        print('Here is your result in round {}: '.format(round_num), r)\n",
    "        if r == 'head':\n",
    "            head_count.append(r)\n",
    "        else:\n",
    "            tail_count.append(r)\n",
    "        round_num += 1\n",
    "\n",
    "    # summary\n",
    "    print('Here is the summary: head {} times and tail {} times'.format(len(head_count),len(tail_count)))"
   ]
  },
  {
   "cell_type": "code",
   "execution_count": 19,
   "metadata": {},
   "outputs": [
    {
     "name": "stdout",
     "output_type": "stream",
     "text": [
      "How many rounds you would like to play?: 3\n",
      "Here is your result in round 1:  head\n",
      "Here is your result in round 2:  head\n",
      "Here is your result in round 3:  head\n",
      "Here is the summary: head 3 times and tail 0 times\n",
      "Here is your result in round 1:  head\n",
      "Here is your result in round 2:  head\n",
      "Here is your result in round 3:  head\n",
      "Here is the summary: head 3 times and tail 0 times\n",
      "Here is your result in round 1:  head\n",
      "Here is your result in round 2:  head\n",
      "Here is your result in round 3:  head\n",
      "Here is the summary: head 3 times and tail 0 times\n",
      "Here is your result in round 1:  head\n",
      "Here is your result in round 2:  head\n",
      "Here is your result in round 3:  head\n",
      "Here is the summary: head 3 times and tail 0 times\n",
      "Here is your result in round 1:  head\n",
      "Here is your result in round 2:  head\n",
      "Here is your result in round 3:  head\n",
      "Here is the summary: head 3 times and tail 0 times\n"
     ]
    }
   ],
   "source": [
    "coin_flip()"
   ]
  },
  {
   "cell_type": "code",
   "execution_count": null,
   "metadata": {},
   "outputs": [],
   "source": []
  },
  {
   "cell_type": "code",
   "execution_count": null,
   "metadata": {},
   "outputs": [],
   "source": []
  },
  {
   "cell_type": "code",
   "execution_count": null,
   "metadata": {},
   "outputs": [],
   "source": []
  },
  {
   "cell_type": "code",
   "execution_count": null,
   "metadata": {},
   "outputs": [],
   "source": []
  },
  {
   "cell_type": "code",
   "execution_count": null,
   "metadata": {},
   "outputs": [],
   "source": []
  },
  {
   "cell_type": "code",
   "execution_count": null,
   "metadata": {},
   "outputs": [],
   "source": []
  }
 ],
 "metadata": {
  "kernelspec": {
   "display_name": "Python 3",
   "language": "python",
   "name": "python3"
  },
  "language_info": {
   "codemirror_mode": {
    "name": "ipython",
    "version": 3
   },
   "file_extension": ".py",
   "mimetype": "text/x-python",
   "name": "python",
   "nbconvert_exporter": "python",
   "pygments_lexer": "ipython3",
   "version": "3.7.4"
  }
 },
 "nbformat": 4,
 "nbformat_minor": 2
}
