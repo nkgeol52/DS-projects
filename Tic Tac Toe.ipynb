{
 "cells": [
  {
   "cell_type": "markdown",
   "metadata": {},
   "source": [
    "___\n",
    "\n",
    "<a href='https://www.udemy.com/user/joseportilla/'><img src='../Pierian_Data_Logo.png'/></a>\n",
    "___\n",
    "<center><em>Content Copyright by Pierian Data</em></center>"
   ]
  },
  {
   "cell_type": "markdown",
   "metadata": {},
   "source": [
    "# Milestone Project 1: Walkthrough Steps Workbook\n",
    "\n",
    "Below is a set of steps for you to follow to try to create the Tic Tac Toe Milestone Project game!"
   ]
  },
  {
   "cell_type": "markdown",
   "metadata": {},
   "source": [
    "#### Some suggested tools before you get started:\n",
    "To take input from a user:\n",
    "\n",
    "    player1 = input(\"Please pick a marker 'X' or 'O'\")\n",
    "    \n",
    "Note that input() takes in a string. If you need an integer value, use\n",
    "\n",
    "    position = int(input('Please enter a number'))\n",
    "    \n",
    "<br>To clear the screen between moves:\n",
    "\n",
    "    from IPython.display import clear_output\n",
    "    clear_output()\n",
    "    \n",
    "Note that clear_output() will only work in jupyter. To clear the screen in other IDEs, consider:\n",
    "\n",
    "    print('\\n'*100)\n",
    "    \n",
    "This scrolls the previous board up out of view. Now on to the program!"
   ]
  },
  {
   "cell_type": "markdown",
   "metadata": {},
   "source": [
    "**Step 1: Write a function that can print out a board. Set up your board as a list, where each index 1-9 corresponds with a number on a number pad, so you get a 3 by 3 board representation.**"
   ]
  },
  {
   "cell_type": "code",
   "execution_count": 2,
   "metadata": {},
   "outputs": [],
   "source": [
    "from IPython.display import clear_output\n",
    "\n",
    "board_index = [9,8,7,6,5,4,3,2,1]\n",
    "\n",
    "def display_board(board):\n",
    "    clear_output()\n",
    "    print('| {} | {} | {} |'.format(board[0],board[1],board[2]))\n",
    "    print('-------------')\n",
    "    print('| {} | {} | {} |'.format(board[3],board[4],board[5]))\n",
    "    print('-------------')\n",
    "    print('| {} | {} | {} |'.format(board[6],board[7],board[8]))"
   ]
  },
  {
   "cell_type": "markdown",
   "metadata": {},
   "source": [
    "**TEST Step 1:** run your function on a test version of the board list, and make adjustments as necessary"
   ]
  },
  {
   "cell_type": "code",
   "execution_count": 3,
   "metadata": {},
   "outputs": [
    {
     "name": "stdout",
     "output_type": "stream",
     "text": [
      "| # | X | O |\n",
      "-------------\n",
      "| X | O | X |\n",
      "-------------\n",
      "| O | X | O |\n"
     ]
    }
   ],
   "source": [
    "test_board = ['#','X','O','X','O','X','O','X','O','X']\n",
    "display_board(test_board)\n",
    "display_board(test_board)"
   ]
  },
  {
   "cell_type": "markdown",
   "metadata": {},
   "source": [
    "**Step 2: Write a function that can take in a player input and assign their marker as 'X' or 'O'. Think about using *while* loops to continually ask until you get a correct answer.**"
   ]
  },
  {
   "cell_type": "code",
   "execution_count": 4,
   "metadata": {},
   "outputs": [],
   "source": [
    "def player_input():\n",
    "    \n",
    "    global player1_marker\n",
    "    global player2_marker\n",
    "    \n",
    "    answer = 'wrong'\n",
    "    \n",
    "    while answer not in ['X','O']:\n",
    "        answer = input('Player 1, would you like to be X or O?').upper()\n",
    "        \n",
    "        if answer not in ['X','O']:\n",
    "            print('Sorry, invalid input!. Please select X or O')\n",
    "    \n",
    "    marker_lst = ['X','O']\n",
    "    marker_lst.remove(answer)\n",
    "    \n",
    "    player1_marker = answer\n",
    "    \n",
    "    player2_marker = marker_lst.pop()\n",
    "    \n",
    "    print('Player 1 has selected {}'.format(player1_marker))\n",
    "    print('Player 2 will be {}'.format(player2_marker))"
   ]
  },
  {
   "cell_type": "markdown",
   "metadata": {},
   "source": [
    "**TEST Step 2:** run the function to make sure it returns the desired output"
   ]
  },
  {
   "cell_type": "code",
   "execution_count": 5,
   "metadata": {},
   "outputs": [
    {
     "name": "stdout",
     "output_type": "stream",
     "text": [
      "Player 1, would you like to be X or O?X\n",
      "Player 1 has selected X\n",
      "Player 2 will be O\n"
     ]
    }
   ],
   "source": [
    "player_input()"
   ]
  },
  {
   "cell_type": "markdown",
   "metadata": {},
   "source": [
    "**Step 3: Write a function that takes in the board list object, a marker ('X' or 'O'), and a desired position (number 1-9) and assigns it to the board.**"
   ]
  },
  {
   "cell_type": "code",
   "execution_count": 5,
   "metadata": {},
   "outputs": [],
   "source": [
    "def place_marker(board, marker, position):\n",
    "    \n",
    "    if position not in list(range(1,10)):\n",
    "        \n",
    "        print('Invalid position, it should be between 1 to 9.')\n",
    "        \n",
    "    board[9-position] = marker"
   ]
  },
  {
   "cell_type": "markdown",
   "metadata": {},
   "source": [
    "**TEST Step 3:** run the place marker function using test parameters and display the modified board"
   ]
  },
  {
   "cell_type": "code",
   "execution_count": 7,
   "metadata": {},
   "outputs": [
    {
     "name": "stdout",
     "output_type": "stream",
     "text": [
      "| # | $ | O |\n",
      "-------------\n",
      "| X | O | X |\n",
      "-------------\n",
      "| O | X | O |\n"
     ]
    }
   ],
   "source": [
    "place_marker(test_board,'$',8)\n",
    "display_board(test_board)"
   ]
  },
  {
   "cell_type": "markdown",
   "metadata": {},
   "source": [
    "**Step 4: Write a function that takes in a board and a mark (X or O) and then checks to see if that mark has won. **"
   ]
  },
  {
   "cell_type": "code",
   "execution_count": 6,
   "metadata": {},
   "outputs": [],
   "source": [
    "def win_check(board, mark):\n",
    "    # row\n",
    "    if board[0] == mark and board[1] == mark and board[2] == mark:\n",
    "        return True\n",
    "    elif board[3] == mark and board[4] == mark and board[5] == mark:\n",
    "        return True\n",
    "    elif board[6] == mark and board[7] == mark and board[8] == mark:\n",
    "        return True\n",
    "        \n",
    "    # column\n",
    "    elif board[0] == mark and board[3] == mark and board[6] == mark:\n",
    "        return True\n",
    "    elif board[1] == mark and board[4] == mark and board[7] == mark:\n",
    "        return True\n",
    "    elif board[2] == mark and board[5] == mark and board[8] == mark:\n",
    "        return True\n",
    "        \n",
    "    # cross\n",
    "    elif board[0] == mark and board[4] == mark and board[8] == mark:\n",
    "        return True\n",
    "    elif board[2] == mark and board[4] == mark and board[6] == mark:\n",
    "        return True\n",
    "        \n",
    "    else:\n",
    "        pass"
   ]
  },
  {
   "cell_type": "markdown",
   "metadata": {},
   "source": [
    "**TEST Step 4:** run the win_check function against our test_board - it should return True"
   ]
  },
  {
   "cell_type": "code",
   "execution_count": 8,
   "metadata": {},
   "outputs": [
    {
     "data": {
      "text/plain": [
       "True"
      ]
     },
     "execution_count": 8,
     "metadata": {},
     "output_type": "execute_result"
    }
   ],
   "source": [
    "win_check(test_board,'O')"
   ]
  },
  {
   "cell_type": "markdown",
   "metadata": {},
   "source": [
    "**Step 5: Write a function that uses the random module to randomly decide which player goes first. You may want to lookup random.randint() Return a string of which player went first.**"
   ]
  },
  {
   "cell_type": "code",
   "execution_count": 7,
   "metadata": {},
   "outputs": [],
   "source": [
    "import random\n",
    "\n",
    "def choose_first():\n",
    "    \n",
    "    return ('player {}'.format(random.randint(1,2)))"
   ]
  },
  {
   "cell_type": "code",
   "execution_count": 40,
   "metadata": {},
   "outputs": [
    {
     "name": "stdout",
     "output_type": "stream",
     "text": [
      "player 1 is going to start_first\n"
     ]
    }
   ],
   "source": [
    "choose_first()\n",
    "print('{} is going to start_first'.format(choose_first()))"
   ]
  },
  {
   "cell_type": "markdown",
   "metadata": {},
   "source": [
    "**Step 6: Write a function that returns a boolean indicating whether a space on the board is freely available.**"
   ]
  },
  {
   "cell_type": "code",
   "execution_count": 8,
   "metadata": {},
   "outputs": [],
   "source": [
    "def space_check(board, position):\n",
    "    if board[9-position] == ' ':\n",
    "        return True\n",
    "    else:\n",
    "        return False"
   ]
  },
  {
   "cell_type": "code",
   "execution_count": 12,
   "metadata": {},
   "outputs": [
    {
     "data": {
      "text/plain": [
       "True"
      ]
     },
     "execution_count": 12,
     "metadata": {},
     "output_type": "execute_result"
    }
   ],
   "source": [
    "# check empty space, make it one spacebar (' ') for empty space\n",
    "a_board = [' ','X','O','X','O','X','O','X','O','X']\n",
    "space_check(a_board,9)"
   ]
  },
  {
   "cell_type": "markdown",
   "metadata": {},
   "source": [
    "**Step 7: Write a function that checks if the board is full and returns a boolean value. True if full, False otherwise.**"
   ]
  },
  {
   "cell_type": "code",
   "execution_count": 9,
   "metadata": {},
   "outputs": [],
   "source": [
    "def full_board_check(board):\n",
    "    if ' ' not in board:\n",
    "        return True\n",
    "    else:\n",
    "        return False"
   ]
  },
  {
   "cell_type": "code",
   "execution_count": 18,
   "metadata": {},
   "outputs": [
    {
     "data": {
      "text/plain": [
       "False"
      ]
     },
     "execution_count": 18,
     "metadata": {},
     "output_type": "execute_result"
    }
   ],
   "source": [
    "# should return false since one space is still empty\n",
    "full_board_check(a_board)"
   ]
  },
  {
   "cell_type": "markdown",
   "metadata": {},
   "source": [
    "**Step 8: Write a function that asks for a player's next position (as a number 1-9) and then uses the function from step 6 to check if it's a free position. If it is, then return the position for later use.**"
   ]
  },
  {
   "cell_type": "code",
   "execution_count": 12,
   "metadata": {},
   "outputs": [],
   "source": [
    "def player_choice(board):\n",
    "    \n",
    "    while full_board_check(board) == False:\n",
    "    \n",
    "        global next_position\n",
    "        \n",
    "        next_position = 'nope'\n",
    "    \n",
    "        while next_position not in list(range(1,10)):\n",
    "            \n",
    "            next_position = int(input('Please enter your next position (1-9): '))\n",
    "            \n",
    "            if next_position not in list(range(1,10)):\n",
    "                print('Invalid, please insert number 1 - 9')\n",
    "            \n",
    "        if space_check(board, next_position) == True:\n",
    "            return int(next_position)\n",
    "            break\n",
    "            \n",
    "        else:\n",
    "            print('{} - > this position is not available, please select new one.'.format(next_position))\n",
    "            \n",
    "    else:\n",
    "        pass"
   ]
  },
  {
   "cell_type": "code",
   "execution_count": 20,
   "metadata": {},
   "outputs": [
    {
     "name": "stdout",
     "output_type": "stream",
     "text": [
      "Please enter your next position (1-9): 9\n"
     ]
    },
    {
     "data": {
      "text/plain": [
       "9"
      ]
     },
     "execution_count": 20,
     "metadata": {},
     "output_type": "execute_result"
    }
   ],
   "source": [
    "full_board = [1,2,3,4,5,6,7,8,9]\n",
    "player_choice(a_board)"
   ]
  },
  {
   "cell_type": "markdown",
   "metadata": {},
   "source": [
    "**Step 9: Write a function that asks the player if they want to play again and returns a boolean True if they do want to play again.**"
   ]
  },
  {
   "cell_type": "code",
   "execution_count": 11,
   "metadata": {},
   "outputs": [],
   "source": [
    "def replay():\n",
    "    \n",
    "    replay_ans = 'nope'\n",
    "    \n",
    "    while replay_ans not in ['Y', 'N']:\n",
    "    \n",
    "        replay_ans = input('Do you want to replay? (Y/N) ')\n",
    "\n",
    "        if replay_ans.upper() == 'Y':\n",
    "            return True\n",
    "        elif replay_ans.upper() == 'N':\n",
    "            return False\n",
    "        else:\n",
    "            pass"
   ]
  },
  {
   "cell_type": "code",
   "execution_count": 22,
   "metadata": {},
   "outputs": [
    {
     "name": "stdout",
     "output_type": "stream",
     "text": [
      "Do you want to replay? (Y/N) Y\n"
     ]
    },
    {
     "data": {
      "text/plain": [
       "True"
      ]
     },
     "execution_count": 22,
     "metadata": {},
     "output_type": "execute_result"
    }
   ],
   "source": [
    "replay()"
   ]
  },
  {
   "cell_type": "markdown",
   "metadata": {
    "collapsed": true
   },
   "source": [
    "**Step 10: Here comes the hard part! Use while loops and the functions you've made to run the game!**"
   ]
  },
  {
   "cell_type": "code",
   "execution_count": 14,
   "metadata": {},
   "outputs": [
    {
     "name": "stdout",
     "output_type": "stream",
     "text": [
      "| X | O | X |\n",
      "-------------\n",
      "| X | O | O |\n",
      "-------------\n",
      "| O | X |   |\n",
      "Here is your turn, player 1\n",
      "Please enter your next position (1-9): 1\n",
      "You are tied!!!\n",
      "Do you want to replay? (Y/N) N\n"
     ]
    }
   ],
   "source": [
    "print('Welcome to Tic Tac Toe!')\n",
    "\n",
    "while True:\n",
    "    # set up parameter\n",
    "    game_board = [' ',' ',' ',' ',' ',' ',' ',' ',' ']\n",
    "    player1_marker = 'A'\n",
    "    player2_marker = 'B'\n",
    "    \n",
    "    # ask player 1 to select marker\n",
    "    player_input()\n",
    "    \n",
    "    # random for which marker to start first - be aware of random since if we call the function multiple time, outcome will changed\n",
    "    start_first = choose_first()\n",
    "    print('{} is going to start first'.format(start_first))\n",
    "    \n",
    "    play_game = input('Ready to play? Y or N?').upper()\n",
    "    \n",
    "    if play_game == 'Y':\n",
    "        game_on = True\n",
    "    else:\n",
    "        game_on = False\n",
    "\n",
    "    # game play    \n",
    "    while game_on:\n",
    "        \n",
    "        display_board(game_board)\n",
    "        \n",
    "        # check if which player start_first\n",
    "        \n",
    "        if start_first == 'player 1':\n",
    "            # player 1 turn\n",
    "            print('Here is your turn, player 1')\n",
    "        \n",
    "            player_choice(game_board)\n",
    "     \n",
    "            place_marker(game_board,player1_marker,next_position)\n",
    "        \n",
    "            # check if player 1 win or not\n",
    "        \n",
    "            if win_check(game_board,player1_marker) == True:\n",
    "                print('Hooray!!!, player 1 has won.')\n",
    "                break\n",
    "            else:\n",
    "                if full_board_check(game_board):\n",
    "                    print('You are tied!!!')\n",
    "                    break\n",
    "        \n",
    "            # player 2 turn\n",
    "            print('Here is your turn, player 2')\n",
    "\n",
    "            player_choice(game_board)\n",
    "\n",
    "            place_marker(game_board,player2_marker,next_position)\n",
    "\n",
    "             # check if player 2 win or not\n",
    "\n",
    "            if win_check(game_board,player2_marker) == True:\n",
    "                print('Hooray!!!, player 2 has won.')\n",
    "                break\n",
    "            else:\n",
    "                if full_board_check(game_board):\n",
    "                    print('You are tied!!!')\n",
    "                    break\n",
    "        \n",
    "        # if the start_first == player 2\n",
    "        else:\n",
    "            # player 2 turn\n",
    "            print('Here is your turn, player 2')\n",
    "\n",
    "            player_choice(game_board)\n",
    "\n",
    "            place_marker(game_board,player2_marker,next_position)\n",
    "\n",
    "             # check if player 2 win or not\n",
    "\n",
    "            if win_check(game_board,player2_marker) == True:\n",
    "                print('Hooray!!!, player 2 has won.')\n",
    "                break\n",
    "            else:\n",
    "                if full_board_check(game_board):\n",
    "                    print('You are tied!!!')\n",
    "                    break\n",
    "            \n",
    "            # player 1 turn\n",
    "            print('Here is your turn, player 1')\n",
    "        \n",
    "            player_choice(game_board)\n",
    "     \n",
    "            place_marker(game_board,player1_marker,next_position)\n",
    "        \n",
    "            # check if player 1 win or not\n",
    "        \n",
    "            if win_check(game_board,player1_marker) == True:\n",
    "                print('Hooray!!!, player 1 has won.')\n",
    "                break\n",
    "            else:\n",
    "                if full_board_check(game_board):\n",
    "                    print('You are tied!!!')\n",
    "                    break\n",
    "\n",
    "    if not replay():\n",
    "        break"
   ]
  },
  {
   "cell_type": "code",
   "execution_count": null,
   "metadata": {},
   "outputs": [],
   "source": []
  },
  {
   "cell_type": "markdown",
   "metadata": {
    "collapsed": true
   },
   "source": [
    "## Good Job!"
   ]
  }
 ],
 "metadata": {
  "kernelspec": {
   "display_name": "Python 3",
   "language": "python",
   "name": "python3"
  },
  "language_info": {
   "codemirror_mode": {
    "name": "ipython",
    "version": 3
   },
   "file_extension": ".py",
   "mimetype": "text/x-python",
   "name": "python",
   "nbconvert_exporter": "python",
   "pygments_lexer": "ipython3",
   "version": "3.7.4"
  }
 },
 "nbformat": 4,
 "nbformat_minor": 1
}
